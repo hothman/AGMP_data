{
 "cells": [
  {
   "cell_type": "markdown",
   "id": "cb11864b-1a8a-436d-b48b-5aa90325a533",
   "metadata": {},
   "source": [
    "# Quality control and data cleaning|"
   ]
  },
  {
   "cell_type": "code",
   "execution_count": 21,
   "id": "2e3c9fb6-04f3-4909-9f03-f0824ae53d9e",
   "metadata": {},
   "outputs": [],
   "source": [
    "import pandas as pd\n",
    "import pandasgui as pg\n",
    "def cleanCol(col):\n",
    "    tmp = []\n",
    "    for elem in col: \n",
    "        tmp.append(( str(elem).strip() ) )\n",
    "    return tmp\n",
    "\n",
    "hackathon_curated = pd.read_csv('../data/assignment.csv', dtype={\"Pubmed_id\":\"object\"})\n",
    "previously_curated = pd.read_csv('../data/to_curate_vars_2nd_round.csv', dtype={\"Pubmed_id\":\"object\"} )\n",
    "\n",
    "# clean th pubmed id \n",
    "previously_curated[\"Pubmed_id\"] = previously_curated.Pubmed_id.str.strip()\n",
    "hackathon_curated[\"Pubmed_id\"] = hackathon_curated.Pubmed_id.str.strip()\n",
    "\n"
   ]
  },
  {
   "cell_type": "code",
   "execution_count": 22,
   "id": "7ef0aab6-f6c0-4550-9fe8-578c1c271859",
   "metadata": {},
   "outputs": [],
   "source": [
    "# generate temp ids \n",
    "\n",
    "all_ids = previously_curated.Variant_ID+previously_curated.Pubmed_id\n",
    "hack_ids = hackathon_curated.Variant_ID+hackathon_curated.Pubmed_id\n",
    "\n",
    "previously_annotated_snps = []\n",
    "for id in list(all_ids): \n",
    "    if id not in list(hack_ids):\n",
    "        previously_annotated_snps.append(id)\n",
    "\n",
    "# get the snps that were annotated from the original doc \n",
    "bool_filter_list = []\n",
    "for index, snp in previously_curated.iterrows() :\n",
    "    combined_id = snp[\"Variant_ID\"]+snp[\"Pubmed_id\"]\n",
    "    if combined_id in previously_annotated_snps:\n",
    "        bool_filter_list.append(True)\n",
    "    else: \n",
    "        bool_filter_list.append(False)\n",
    "\n",
    "previously_curated = previously_curated[bool_filter_list]\n"
   ]
  },
  {
   "cell_type": "markdown",
   "id": "f961ce60-aaa8-4daa-b231-9525df7593aa",
   "metadata": {},
   "source": [
    "# Filter raws to be removed and merge dataframes\n",
    "The following code generates the concatenated dataframe of the raw data curated in the second round and outputs it to a csv file."
   ]
  },
  {
   "cell_type": "code",
   "execution_count": 23,
   "id": "9d569b17-9506-4b34-86a6-395c5d574cd6",
   "metadata": {},
   "outputs": [],
   "source": [
    "hackathon_curated = hackathon_curated[hackathon_curated[\"Comments\"] != \"REMOVE\"]\n",
    "hackathon_curated = hackathon_curated[ hackathon_curated.columns[0:10] ]\n",
    "previously_curated= previously_curated[previously_curated.columns[0:10]]\n",
    "\n",
    "curated_data = pd.concat([previously_curated, hackathon_curated])\n",
    "curated_data.to_csv(\"../data/AGMP_curated_data_raw.csv\", index=False)"
   ]
  },
  {
   "cell_type": "markdown",
   "id": "8fbc76c0-3abd-4b19-a5db-76e82d7c10a2",
   "metadata": {},
   "source": [
    "# Quality control"
   ]
  },
  {
   "cell_type": "code",
   "execution_count": 105,
   "id": "b113261d-cb45-4ba5-9508-266ecadae611",
   "metadata": {},
   "outputs": [
    {
     "data": {
      "text/plain": [
       "Variant_ID                  0\n",
       "Pubmed_id                   1\n",
       "phenotype                   0\n",
       "origin_of_participants    155\n",
       "region                    162\n",
       "Ethnicity                 571\n",
       "mixed_population          341\n",
       "p-value                   508\n",
       "dbSNP Gene                192\n",
       "Notes                     847\n",
       "dtype: int64"
      ]
     },
     "execution_count": 105,
     "metadata": {},
     "output_type": "execute_result"
    }
   ],
   "source": [
    "curated_data.isna().sum()"
   ]
  },
  {
   "cell_type": "markdown",
   "id": "32331e93-08e3-4f62-abe8-39f4a9edf208",
   "metadata": {},
   "source": [
    "First all the missing values are replaced by NS"
   ]
  },
  {
   "cell_type": "code",
   "execution_count": 107,
   "id": "ae9256f0-5ad6-4884-b372-634e9c10b37a",
   "metadata": {},
   "outputs": [
    {
     "data": {
      "text/plain": [
       "Variant_ID                0\n",
       "Pubmed_id                 0\n",
       "phenotype                 0\n",
       "origin_of_participants    0\n",
       "region                    0\n",
       "Ethnicity                 0\n",
       "mixed_population          0\n",
       "p-value                   0\n",
       "dbSNP Gene                0\n",
       "Notes                     0\n",
       "dtype: int64"
      ]
     },
     "execution_count": 107,
     "metadata": {},
     "output_type": "execute_result"
    }
   ],
   "source": [
    "curated_data.fillna(\"NS\", inplace=True)\n",
    "curated_data.isna().sum()"
   ]
  },
  {
   "cell_type": "markdown",
   "id": "55055fc3-ad89-4c7a-95ca-66d2134b5767",
   "metadata": {},
   "source": [
    "## The region field"
   ]
  },
  {
   "cell_type": "code",
   "execution_count": 99,
   "id": "4b631008-98f4-4377-83a8-7adc766205a6",
   "metadata": {},
   "outputs": [],
   "source": [
    "import matplotlib.pylab as plt \n",
    "import seaborn as sns\n",
    "\n",
    "#sns.countplot(curated_data.region, orient=\"h\")\n",
    "categories = curated_data.groupby('region').count()\n",
    "#pg.show(categories)"
   ]
  },
  {
   "cell_type": "code",
   "execution_count": 98,
   "id": "1541dd40-3a14-44e3-8f29-5f17f83aa512",
   "metadata": {},
   "outputs": [],
   "source": [
    "curated_data.replace(['60 Caucasian-American (CA), 60 AfricanAmerican (AA), 60 Han Chinese-American (HCA) and 60 Mexican-American (MA)', \n",
    "                     '64 White (Non-Hispanic),194  African-American (Non-Hispanic),130 Hispanic,10 Asians and Pacific Islanders and others ',\n",
    "                     'African American', 'African American and Hispanic American', 'African American/Afro-Caribbean, southeastern United States', \n",
    "                     '730 of European American and 143 of African American descent', 'African-American', 'Afro-Caribbean', \n",
    "                      'European-Americans and African-Americans', 'GERA (81% self-identified non-Hispanic white (NHW) participants, and 19% self-identified ethnic minorities (7% Asian, 3.5% African American, 7% Latinos, and 1.5% Other))',\n",
    "                     'PEAR: 461 Caucasian and 298 African American',\n",
    "       'PEAR: white (60.6%),African-American (39.4%)',\n",
    "       'PEAR: white (60.6%),African-American (39.4%).INVEST:White,Hispanic,African-American', \n",
    "                      'self-identified African-American (USA)', 'African–American', 'African American/Afro-Caribbean', 'race self-reported'],\n",
    "                    'African-American/Afro-Caribbean', inplace=True)\n",
    "\n",
    "curated_data.replace(['Eastern Mediterranean and North Africa', 'Morrocon and Palistaneans', \n",
    "                      'Near Eastern/ North Africa', 'Tunisian ', 'Tunusia',\n",
    "                      'south Europe and North Africa', 'North Africa,', 'Northen Africa', 'Pooled population'], \"North Africa\", inplace=True)\n",
    "\n",
    "curated_data.replace(['Africa ', 'African Populations',  'African, Asian, Caucasian, Hispanic',\n",
    "                     ], \"Africa\", inplace=True)\n",
    "\n",
    "curated_data.replace(['Eastern Africa','East Africa & non-African', 'Malawi', 'Zimbabwe', 'Tanzania'],\n",
    "                     'East Africa', inplace=True)\n",
    "\n",
    "curated_data.replace(['African-Americans and Native Africans','South Africa', 'South Africa and Australia'\n",
    "                     ], \"Southern Africa\", inplace=True)\n",
    "\n",
    "curated_data.replace(['Eastern Africa / Southeastern Africa /Western Africa',\n",
    "                     ], 'East Africa,Southern Africa,Western Africa', inplace=True)\n",
    "\n",
    "curated_data.replace(['Nigeria', 'Nigerians', 'Western Africa'], \n",
    "                     'Western Africa', inplace=True)\n",
    "\n",
    "curated_data.replace(['Sub-Saharan Africa/African American/Afro-Caribbean'], \n",
    "                     'Sub-Saharan Africa,African-American/Afro-Caribbean', inplace=True)\n",
    "\n",
    "\n",
    "curated_data.replace([\"Sub-Saharan African\"], \n",
    "                     'Sub-Saharan Africa', inplace=True)\n",
    "\n",
    "# any variants belonging to these regions are dropped \n",
    "curated_data.drop(curated_data[curated_data.region.isin([\"East Asian\", 'Europe', 'Isreal', 'Mexico city', \n",
    "                                                        'Mixed Population (Lattino and whites)', 'Near Eastern', 'New Zeland',\n",
    "                                                        'Non-Hispanic whites', 'Not_African', 'South America', \n",
    "                                                        'predominantly central European', 'Central/South Asian'])].index, inplace=True)\n",
    "\n",
    "categories = curated_data.groupby('region').count()\n",
    "categories"
   ]
  },
  {
   "cell_type": "code",
   "execution_count": 100,
   "id": "d2a1214a-b050-4f22-9668-0f5de6ce037f",
   "metadata": {},
   "outputs": [
    {
     "data": {
      "text/plain": [
       "Index(['Africa', 'African-American/Afro-Caribbean', 'Central Africa',\n",
       "       'East Africa', 'East Africa, Southern Africa',\n",
       "       'East Africa,Southern Africa,Western Africa', 'North Africa',\n",
       "       'Southern Africa', 'Southern Africa,East Africa', 'Sub-Saharan Africa',\n",
       "       'Sub-Saharan Africa,African-American/Afro-Caribbean', 'West Africa',\n",
       "       'Western Africa'],\n",
       "      dtype='object', name='region')"
      ]
     },
     "execution_count": 100,
     "metadata": {},
     "output_type": "execute_result"
    }
   ],
   "source": [
    "categories.index"
   ]
  },
  {
   "cell_type": "code",
   "execution_count": 104,
   "id": "c8f56289-3ce7-41d7-a53c-9373980c3c9a",
   "metadata": {},
   "outputs": [
    {
     "data": {
      "text/html": [
       "<div>\n",
       "<style scoped>\n",
       "    .dataframe tbody tr th:only-of-type {\n",
       "        vertical-align: middle;\n",
       "    }\n",
       "\n",
       "    .dataframe tbody tr th {\n",
       "        vertical-align: top;\n",
       "    }\n",
       "\n",
       "    .dataframe thead th {\n",
       "        text-align: right;\n",
       "    }\n",
       "</style>\n",
       "<table border=\"1\" class=\"dataframe\">\n",
       "  <thead>\n",
       "    <tr style=\"text-align: right;\">\n",
       "      <th></th>\n",
       "      <th>Variant_ID</th>\n",
       "      <th>Pubmed_id</th>\n",
       "      <th>phenotype</th>\n",
       "      <th>origin_of_participants</th>\n",
       "      <th>Ethnicity</th>\n",
       "      <th>mixed_population</th>\n",
       "      <th>p-value</th>\n",
       "      <th>dbSNP Gene</th>\n",
       "      <th>Notes</th>\n",
       "    </tr>\n",
       "    <tr>\n",
       "      <th>region</th>\n",
       "      <th></th>\n",
       "      <th></th>\n",
       "      <th></th>\n",
       "      <th></th>\n",
       "      <th></th>\n",
       "      <th></th>\n",
       "      <th></th>\n",
       "      <th></th>\n",
       "      <th></th>\n",
       "    </tr>\n",
       "  </thead>\n",
       "  <tbody>\n",
       "    <tr>\n",
       "      <th>Africa</th>\n",
       "      <td>36</td>\n",
       "      <td>36</td>\n",
       "      <td>36</td>\n",
       "      <td>35</td>\n",
       "      <td>31</td>\n",
       "      <td>35</td>\n",
       "      <td>33</td>\n",
       "      <td>33</td>\n",
       "      <td>30</td>\n",
       "    </tr>\n",
       "    <tr>\n",
       "      <th>African-American/Afro-Caribbean</th>\n",
       "      <td>313</td>\n",
       "      <td>313</td>\n",
       "      <td>313</td>\n",
       "      <td>302</td>\n",
       "      <td>190</td>\n",
       "      <td>284</td>\n",
       "      <td>283</td>\n",
       "      <td>309</td>\n",
       "      <td>154</td>\n",
       "    </tr>\n",
       "    <tr>\n",
       "      <th>Central Africa</th>\n",
       "      <td>56</td>\n",
       "      <td>55</td>\n",
       "      <td>56</td>\n",
       "      <td>56</td>\n",
       "      <td>56</td>\n",
       "      <td>55</td>\n",
       "      <td>49</td>\n",
       "      <td>56</td>\n",
       "      <td>51</td>\n",
       "    </tr>\n",
       "    <tr>\n",
       "      <th>East Africa</th>\n",
       "      <td>79</td>\n",
       "      <td>79</td>\n",
       "      <td>79</td>\n",
       "      <td>63</td>\n",
       "      <td>56</td>\n",
       "      <td>72</td>\n",
       "      <td>53</td>\n",
       "      <td>79</td>\n",
       "      <td>45</td>\n",
       "    </tr>\n",
       "    <tr>\n",
       "      <th>East Africa, Southern Africa</th>\n",
       "      <td>5</td>\n",
       "      <td>5</td>\n",
       "      <td>5</td>\n",
       "      <td>5</td>\n",
       "      <td>0</td>\n",
       "      <td>5</td>\n",
       "      <td>0</td>\n",
       "      <td>5</td>\n",
       "      <td>5</td>\n",
       "    </tr>\n",
       "    <tr>\n",
       "      <th>East Africa,Southern Africa,Western Africa</th>\n",
       "      <td>19</td>\n",
       "      <td>19</td>\n",
       "      <td>19</td>\n",
       "      <td>19</td>\n",
       "      <td>19</td>\n",
       "      <td>19</td>\n",
       "      <td>19</td>\n",
       "      <td>19</td>\n",
       "      <td>7</td>\n",
       "    </tr>\n",
       "    <tr>\n",
       "      <th>North Africa</th>\n",
       "      <td>940</td>\n",
       "      <td>940</td>\n",
       "      <td>940</td>\n",
       "      <td>928</td>\n",
       "      <td>733</td>\n",
       "      <td>811</td>\n",
       "      <td>722</td>\n",
       "      <td>892</td>\n",
       "      <td>556</td>\n",
       "    </tr>\n",
       "    <tr>\n",
       "      <th>Southern Africa</th>\n",
       "      <td>216</td>\n",
       "      <td>216</td>\n",
       "      <td>216</td>\n",
       "      <td>216</td>\n",
       "      <td>203</td>\n",
       "      <td>199</td>\n",
       "      <td>192</td>\n",
       "      <td>213</td>\n",
       "      <td>159</td>\n",
       "    </tr>\n",
       "    <tr>\n",
       "      <th>Southern Africa,East Africa</th>\n",
       "      <td>7</td>\n",
       "      <td>7</td>\n",
       "      <td>7</td>\n",
       "      <td>7</td>\n",
       "      <td>7</td>\n",
       "      <td>7</td>\n",
       "      <td>7</td>\n",
       "      <td>7</td>\n",
       "      <td>7</td>\n",
       "    </tr>\n",
       "    <tr>\n",
       "      <th>Sub-Saharan Africa</th>\n",
       "      <td>42</td>\n",
       "      <td>42</td>\n",
       "      <td>42</td>\n",
       "      <td>22</td>\n",
       "      <td>41</td>\n",
       "      <td>40</td>\n",
       "      <td>32</td>\n",
       "      <td>39</td>\n",
       "      <td>24</td>\n",
       "    </tr>\n",
       "    <tr>\n",
       "      <th>Sub-Saharan Africa,African-American/Afro-Caribbean</th>\n",
       "      <td>4</td>\n",
       "      <td>4</td>\n",
       "      <td>4</td>\n",
       "      <td>4</td>\n",
       "      <td>4</td>\n",
       "      <td>0</td>\n",
       "      <td>4</td>\n",
       "      <td>4</td>\n",
       "      <td>0</td>\n",
       "    </tr>\n",
       "    <tr>\n",
       "      <th>West Africa</th>\n",
       "      <td>140</td>\n",
       "      <td>140</td>\n",
       "      <td>140</td>\n",
       "      <td>140</td>\n",
       "      <td>84</td>\n",
       "      <td>123</td>\n",
       "      <td>96</td>\n",
       "      <td>135</td>\n",
       "      <td>58</td>\n",
       "    </tr>\n",
       "    <tr>\n",
       "      <th>Western Africa</th>\n",
       "      <td>7</td>\n",
       "      <td>7</td>\n",
       "      <td>7</td>\n",
       "      <td>5</td>\n",
       "      <td>7</td>\n",
       "      <td>5</td>\n",
       "      <td>4</td>\n",
       "      <td>6</td>\n",
       "      <td>6</td>\n",
       "    </tr>\n",
       "  </tbody>\n",
       "</table>\n",
       "</div>"
      ],
      "text/plain": [
       "                                                    Variant_ID  Pubmed_id  \\\n",
       "region                                                                      \n",
       "Africa                                                      36         36   \n",
       "African-American/Afro-Caribbean                            313        313   \n",
       "Central Africa                                              56         55   \n",
       "East Africa                                                 79         79   \n",
       "East Africa, Southern Africa                                 5          5   \n",
       "East Africa,Southern Africa,Western Africa                  19         19   \n",
       "North Africa                                               940        940   \n",
       "Southern Africa                                            216        216   \n",
       "Southern Africa,East Africa                                  7          7   \n",
       "Sub-Saharan Africa                                          42         42   \n",
       "Sub-Saharan Africa,African-American/Afro-Caribbean           4          4   \n",
       "West Africa                                                140        140   \n",
       "Western Africa                                               7          7   \n",
       "\n",
       "                                                    phenotype  \\\n",
       "region                                                          \n",
       "Africa                                                     36   \n",
       "African-American/Afro-Caribbean                           313   \n",
       "Central Africa                                             56   \n",
       "East Africa                                                79   \n",
       "East Africa, Southern Africa                                5   \n",
       "East Africa,Southern Africa,Western Africa                 19   \n",
       "North Africa                                              940   \n",
       "Southern Africa                                           216   \n",
       "Southern Africa,East Africa                                 7   \n",
       "Sub-Saharan Africa                                         42   \n",
       "Sub-Saharan Africa,African-American/Afro-Caribbean          4   \n",
       "West Africa                                               140   \n",
       "Western Africa                                              7   \n",
       "\n",
       "                                                    origin_of_participants  \\\n",
       "region                                                                       \n",
       "Africa                                                                  35   \n",
       "African-American/Afro-Caribbean                                        302   \n",
       "Central Africa                                                          56   \n",
       "East Africa                                                             63   \n",
       "East Africa, Southern Africa                                             5   \n",
       "East Africa,Southern Africa,Western Africa                              19   \n",
       "North Africa                                                           928   \n",
       "Southern Africa                                                        216   \n",
       "Southern Africa,East Africa                                              7   \n",
       "Sub-Saharan Africa                                                      22   \n",
       "Sub-Saharan Africa,African-American/Afro-Caribbean                       4   \n",
       "West Africa                                                            140   \n",
       "Western Africa                                                           5   \n",
       "\n",
       "                                                    Ethnicity  \\\n",
       "region                                                          \n",
       "Africa                                                     31   \n",
       "African-American/Afro-Caribbean                           190   \n",
       "Central Africa                                             56   \n",
       "East Africa                                                56   \n",
       "East Africa, Southern Africa                                0   \n",
       "East Africa,Southern Africa,Western Africa                 19   \n",
       "North Africa                                              733   \n",
       "Southern Africa                                           203   \n",
       "Southern Africa,East Africa                                 7   \n",
       "Sub-Saharan Africa                                         41   \n",
       "Sub-Saharan Africa,African-American/Afro-Caribbean          4   \n",
       "West Africa                                                84   \n",
       "Western Africa                                              7   \n",
       "\n",
       "                                                    mixed_population  p-value  \\\n",
       "region                                                                          \n",
       "Africa                                                            35       33   \n",
       "African-American/Afro-Caribbean                                  284      283   \n",
       "Central Africa                                                    55       49   \n",
       "East Africa                                                       72       53   \n",
       "East Africa, Southern Africa                                       5        0   \n",
       "East Africa,Southern Africa,Western Africa                        19       19   \n",
       "North Africa                                                     811      722   \n",
       "Southern Africa                                                  199      192   \n",
       "Southern Africa,East Africa                                        7        7   \n",
       "Sub-Saharan Africa                                                40       32   \n",
       "Sub-Saharan Africa,African-American/Afro-Caribbean                 0        4   \n",
       "West Africa                                                      123       96   \n",
       "Western Africa                                                     5        4   \n",
       "\n",
       "                                                    dbSNP Gene  Notes  \n",
       "region                                                                 \n",
       "Africa                                                      33     30  \n",
       "African-American/Afro-Caribbean                            309    154  \n",
       "Central Africa                                              56     51  \n",
       "East Africa                                                 79     45  \n",
       "East Africa, Southern Africa                                 5      5  \n",
       "East Africa,Southern Africa,Western Africa                  19      7  \n",
       "North Africa                                               892    556  \n",
       "Southern Africa                                            213    159  \n",
       "Southern Africa,East Africa                                  7      7  \n",
       "Sub-Saharan Africa                                          39     24  \n",
       "Sub-Saharan Africa,African-American/Afro-Caribbean           4      0  \n",
       "West Africa                                                135     58  \n",
       "Western Africa                                               6      6  "
      ]
     },
     "execution_count": 104,
     "metadata": {},
     "output_type": "execute_result"
    }
   ],
   "source": [
    "categories = curated_data.groupby('region').count()\n",
    "categories"
   ]
  },
  {
   "cell_type": "markdown",
   "id": "44877495-45ec-4d94-b8ad-5dc8141905d5",
   "metadata": {},
   "source": [
    "## Origin of participants"
   ]
  },
  {
   "cell_type": "code",
   "execution_count": 111,
   "id": "155b925d-a93a-4efc-a1c4-b6414f7c0f9e",
   "metadata": {},
   "outputs": [
    {
     "data": {
      "text/plain": [
       "<pandasgui.gui.PandasGui at 0x7f874f02daf0>"
      ]
     },
     "execution_count": 111,
     "metadata": {},
     "output_type": "execute_result"
    }
   ],
   "source": [
    "categories = curated_data.groupby('origin_of_participants').count()\n",
    "pg.show(categories)"
   ]
  },
  {
   "cell_type": "markdown",
   "id": "5a738e17-df84-48c0-887d-ab5536751bdc",
   "metadata": {},
   "source": [
    "# transform and Output cleaned data"
   ]
  },
  {
   "cell_type": "code",
   "execution_count": 113,
   "id": "ad50ae2d-8bc6-407f-94b3-c98fd0c0ca6e",
   "metadata": {},
   "outputs": [],
   "source": [
    "\n",
    "\n",
    "curated_data.to_csv(\"../data/row_curateddata.csv\")"
   ]
  },
  {
   "cell_type": "code",
   "execution_count": 114,
   "id": "b15e8075-f05a-48ee-b488-34c572fce039",
   "metadata": {},
   "outputs": [
    {
     "data": {
      "text/plain": [
       "<pandasgui.gui.PandasGui at 0x7f874d21aaf0>"
      ]
     },
     "execution_count": 114,
     "metadata": {},
     "output_type": "execute_result"
    }
   ],
   "source": [
    "pg.show(curated_data)"
   ]
  },
  {
   "cell_type": "code",
   "execution_count": null,
   "id": "0de8fd5d-9558-41a3-9795-60abac760762",
   "metadata": {},
   "outputs": [],
   "source": []
  }
 ],
 "metadata": {
  "kernelspec": {
   "display_name": "Python 3",
   "language": "python",
   "name": "python3"
  },
  "language_info": {
   "codemirror_mode": {
    "name": "ipython",
    "version": 3
   },
   "file_extension": ".py",
   "mimetype": "text/x-python",
   "name": "python",
   "nbconvert_exporter": "python",
   "pygments_lexer": "ipython3",
   "version": "3.9.4"
  }
 },
 "nbformat": 4,
 "nbformat_minor": 5
}
